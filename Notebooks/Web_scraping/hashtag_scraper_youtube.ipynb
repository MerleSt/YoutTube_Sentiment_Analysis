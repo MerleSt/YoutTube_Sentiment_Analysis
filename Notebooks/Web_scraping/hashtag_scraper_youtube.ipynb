{
 "cells": [
  {
   "cell_type": "markdown",
   "source": [
    "# Imports"
   ],
   "metadata": {
    "collapsed": false
   },
   "id": "ddd1946a7417681f"
  },
  {
   "cell_type": "code",
   "execution_count": 1,
   "id": "initial_id",
   "metadata": {
    "collapsed": true,
    "ExecuteTime": {
     "end_time": "2023-10-11T13:57:47.650947Z",
     "start_time": "2023-10-11T13:57:47.154345Z"
    }
   },
   "outputs": [],
   "source": [
    "from bs4 import BeautifulSoup\n",
    "import requests\n",
    "import pandas as pd"
   ]
  },
  {
   "cell_type": "code",
   "execution_count": 29,
   "outputs": [],
   "source": [
    "channels = pd.read_csv('/Users/merlesteffen/Documents/GitHub/YoutTube_Sentiment_Analysis/Data/top_1000_youtube_channels_Germany.csv')"
   ],
   "metadata": {
    "collapsed": false,
    "ExecuteTime": {
     "end_time": "2023-10-11T14:52:55.381673Z",
     "start_time": "2023-10-11T14:52:55.369208Z"
    }
   },
   "id": "f9dff4bc7572c22d"
  },
  {
   "cell_type": "markdown",
   "source": [
    "# To-Do"
   ],
   "metadata": {
    "collapsed": false
   },
   "id": "714f2cc6649a90bc"
  },
  {
   "cell_type": "markdown",
   "source": [
    "1. Get Channel ID\n",
    "- Save in DF\n",
    "2. Get Latest 100 Videos of YouTubers as the url\n",
    "- Safe in DF\n",
    "3. Scrape Comments & Details from Videos"
   ],
   "metadata": {
    "collapsed": false
   },
   "id": "ae4aba8681fb2960"
  },
  {
   "cell_type": "markdown",
   "source": [
    "# Get Channel Ids"
   ],
   "metadata": {
    "collapsed": false
   },
   "id": "542f5967afa70643"
  },
  {
   "cell_type": "code",
   "execution_count": 35,
   "outputs": [],
   "source": [
    "channels_list = channels['Youtuber'].tolist()"
   ],
   "metadata": {
    "collapsed": false,
    "ExecuteTime": {
     "end_time": "2023-10-11T15:27:07.011445Z",
     "start_time": "2023-10-11T15:27:07.008358Z"
    }
   },
   "id": "fc86c2888e2955de"
  },
  {
   "cell_type": "code",
   "execution_count": 31,
   "outputs": [
    {
     "name": "stdout",
     "output_type": "stream",
     "text": [
      "[document]\n",
      "[document]\n",
      "[document]\n",
      "[document]\n",
      "[document]\n",
      "[document]\n",
      "[document]\n"
     ]
    }
   ],
   "source": [
    "import requests\n",
    "\n",
    "def get_channel_id(channel_name, api_key):\n",
    "    base_url = 'https://www.googleapis.com/youtube/v3/search'\n",
    "    params = {\n",
    "        'part': 'id',\n",
    "        'q': channel_name,\n",
    "        'type': 'channel',\n",
    "        'key': api_key\n",
    "    }\n",
    "    \n",
    "    response = requests.get(base_url, params=params).json()\n",
    "\n",
    "    # Extract the channel ID from the response\n",
    "    # Note: This assumes the first result is the desired channel. You may want to refine this for more accuracy.\n",
    "    items = response.get('items', [])\n",
    "    if items:\n",
    "        return items[0]['id']['channelId']\n",
    "\n",
    "    return None  # Return None if no channel ID is found\n",
    "\n",
    "# Use the function\n",
    "api_key = 'YOUR_YOUTUBE_API_KEY'\n",
    "\n",
    "df = pd.DataFrame(columns=['ChannelName', 'ChannelID'])\n",
    "\n",
    "# Loop through channel names to fetch IDs\n",
    "for channel_name in channels_list:\n",
    "    channel_id = get_channel_id(channel_name, api_key)\n",
    "    new_data = pd.DataFrame(\n",
    "        {'ChannelName': [channel_name],\n",
    "         'ChannelID': [channel_id]}\n",
    "    )\n",
    "    df = pd.concat([df, new_data], ignore_index=True)\n",
    "\n",
    "# Save the DataFrame to a CSV file\n",
    "df.to_csv('channel_ids.csv', index=False)"
   ],
   "metadata": {
    "collapsed": false,
    "ExecuteTime": {
     "end_time": "2023-10-11T14:54:52.062026Z",
     "start_time": "2023-10-11T14:54:49.731748Z"
    }
   },
   "id": "acbe01f8bdab6f9e"
  },
  {
   "cell_type": "code",
   "execution_count": null,
   "outputs": [],
   "source": [],
   "metadata": {
    "collapsed": false
   },
   "id": "3667b876a24d7d9"
  },
  {
   "cell_type": "markdown",
   "source": [
    "# Get Video Urls of top 100 videos for all Channel Ids"
   ],
   "metadata": {
    "collapsed": false
   },
   "id": "11b4be479c40657a"
  },
  {
   "cell_type": "code",
   "execution_count": null,
   "outputs": [],
   "source": [],
   "metadata": {
    "collapsed": false
   },
   "id": "adea3fb0ca58bca7"
  }
 ],
 "metadata": {
  "kernelspec": {
   "display_name": "Python 3",
   "language": "python",
   "name": "python3"
  },
  "language_info": {
   "codemirror_mode": {
    "name": "ipython",
    "version": 2
   },
   "file_extension": ".py",
   "mimetype": "text/x-python",
   "name": "python",
   "nbconvert_exporter": "python",
   "pygments_lexer": "ipython2",
   "version": "2.7.6"
  }
 },
 "nbformat": 4,
 "nbformat_minor": 5
}
